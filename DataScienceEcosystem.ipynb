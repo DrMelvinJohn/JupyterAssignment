{
 "cells": [
  {
   "cell_type": "markdown",
   "id": "b78c9b2b-72fa-45c1-aae0-b6bd830a946a",
   "metadata": {},
   "source": [
    "# Data Science Tools and Ecosystem"
   ]
  },
  {
   "cell_type": "markdown",
   "id": "4efa969d-9467-481b-97cf-648f4b33ecda",
   "metadata": {},
   "source": [
    "In this notebook, Data Science Tools and Ecosystem are summarized."
   ]
  },
  {
   "cell_type": "markdown",
   "id": "8f059aea-911f-4dc9-8f13-d3399fb37720",
   "metadata": {},
   "source": [
    "Objectives:\n",
    "- List popular languages for Data Science\n",
    "- List commonly used libraries for Data Science\n",
    "- List open source development environments\n",
    "- Perfrom basic arithmatic in a Jupyter Notebook"
   ]
  },
  {
   "cell_type": "markdown",
   "id": "0ba7d93b-6ceb-4f28-a1b6-14f2a6e83a98",
   "metadata": {},
   "source": [
    "Some of the popular languages that Data Scientists use are:\n",
    "1. R\n",
    "2. Python\n",
    "3. Julia\n",
    "4. SQL\n",
    "5. Scala\n",
    "6. Java\n",
    "7. C++"
   ]
  },
  {
   "cell_type": "markdown",
   "id": "dbda35d8-7408-4330-b3e5-87307e1666f3",
   "metadata": {},
   "source": [
    "Some of the commonly used libraries used by Data Scientists include:\n",
    "1. Caret\n",
    "2. ggplot2\n",
    "3. Pandas\n",
    "4. NumPy\n",
    "5. SciPy\n",
    "6. Matplotlib\n",
    "7. scikit-learn"
   ]
  },
  {
   "cell_type": "markdown",
   "id": "69b29da2-3c0f-4fd8-85dd-0326caa48920",
   "metadata": {},
   "source": [
    "| Data Science Tools|\n",
    "| -----------------|\n",
    "| Jupyter|\n",
    "| RStudio|\n",
    "| Spyder|"
   ]
  },
  {
   "cell_type": "markdown",
   "id": "ad7e9c49-70a8-4ae5-8078-3a9ed39910b0",
   "metadata": {},
   "source": [
    "### Below are a few examples of evaluating arithmetic expressions in Python"
   ]
  },
  {
   "cell_type": "code",
   "execution_count": 12,
   "id": "2528ee3d-efe8-4605-949a-739cbd934217",
   "metadata": {},
   "outputs": [
    {
     "data": {
      "text/plain": [
       "17"
      ]
     },
     "execution_count": 12,
     "metadata": {},
     "output_type": "execute_result"
    }
   ],
   "source": [
    "# This a simple arithmetic expression to mutiply then add integers\n",
    "(3*4)+5"
   ]
  },
  {
   "cell_type": "code",
   "execution_count": 13,
   "id": "a03188d8-d33d-4235-aca3-55d23bf4a11e",
   "metadata": {},
   "outputs": [
    {
     "data": {
      "text/plain": [
       "3.3333333333333335"
      ]
     },
     "execution_count": 13,
     "metadata": {},
     "output_type": "execute_result"
    }
   ],
   "source": [
    "# This will convert 200 minutes to hours by dividing by 60\n",
    "200/60"
   ]
  },
  {
   "cell_type": "markdown",
   "id": "9d5708d9-ad4e-43c2-9a8b-c85ef05f0ce3",
   "metadata": {},
   "source": [
    "## Author\n",
    "Dr. Melvin John"
   ]
  }
 ],
 "metadata": {
  "kernelspec": {
   "display_name": "Python 3 (ipykernel)",
   "language": "python",
   "name": "python3"
  },
  "language_info": {
   "codemirror_mode": {
    "name": "ipython",
    "version": 3
   },
   "file_extension": ".py",
   "mimetype": "text/x-python",
   "name": "python",
   "nbconvert_exporter": "python",
   "pygments_lexer": "ipython3",
   "version": "3.12.4"
  }
 },
 "nbformat": 4,
 "nbformat_minor": 5
}
